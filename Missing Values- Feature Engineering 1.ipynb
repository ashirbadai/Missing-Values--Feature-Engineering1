{
 "cells": [
  {
   "cell_type": "code",
   "execution_count": 38,
   "id": "931bcbd1",
   "metadata": {},
   "outputs": [],
   "source": [
    "import pandas as pd"
   ]
  },
  {
   "cell_type": "code",
   "execution_count": 67,
   "id": "d4a9e024",
   "metadata": {},
   "outputs": [],
   "source": [
    "df=pd.read_csv('Fruit_Production.csv')"
   ]
  },
  {
   "cell_type": "code",
   "execution_count": 68,
   "id": "43374707",
   "metadata": {},
   "outputs": [
    {
     "data": {
      "text/html": [
       "<div>\n",
       "<style scoped>\n",
       "    .dataframe tbody tr th:only-of-type {\n",
       "        vertical-align: middle;\n",
       "    }\n",
       "\n",
       "    .dataframe tbody tr th {\n",
       "        vertical-align: top;\n",
       "    }\n",
       "\n",
       "    .dataframe thead th {\n",
       "        text-align: right;\n",
       "    }\n",
       "</style>\n",
       "<table border=\"1\" class=\"dataframe\">\n",
       "  <thead>\n",
       "    <tr style=\"text-align: right;\">\n",
       "      <th></th>\n",
       "      <th>Fruit</th>\n",
       "      <th>Quantity_kg</th>\n",
       "      <th>Price_per_kg_in_USD</th>\n",
       "      <th>Farmer_Name</th>\n",
       "      <th>Customer_Name</th>\n",
       "    </tr>\n",
       "  </thead>\n",
       "  <tbody>\n",
       "    <tr>\n",
       "      <th>0</th>\n",
       "      <td>Apple</td>\n",
       "      <td>97.0</td>\n",
       "      <td>1.15</td>\n",
       "      <td>John Smith</td>\n",
       "      <td>John Hayes</td>\n",
       "    </tr>\n",
       "    <tr>\n",
       "      <th>1</th>\n",
       "      <td>Orange</td>\n",
       "      <td>NaN</td>\n",
       "      <td>2.83</td>\n",
       "      <td>John Smith</td>\n",
       "      <td>Mary Casteel</td>\n",
       "    </tr>\n",
       "    <tr>\n",
       "      <th>2</th>\n",
       "      <td>Banana</td>\n",
       "      <td>NaN</td>\n",
       "      <td>2.16</td>\n",
       "      <td>John Smith</td>\n",
       "      <td>April Lewis</td>\n",
       "    </tr>\n",
       "    <tr>\n",
       "      <th>3</th>\n",
       "      <td>Grape</td>\n",
       "      <td>81.0</td>\n",
       "      <td>1.56</td>\n",
       "      <td>John Smith</td>\n",
       "      <td>David Burges</td>\n",
       "    </tr>\n",
       "    <tr>\n",
       "      <th>4</th>\n",
       "      <td>Pear</td>\n",
       "      <td>140.0</td>\n",
       "      <td>1.09</td>\n",
       "      <td>John Smith</td>\n",
       "      <td>George Redden</td>\n",
       "    </tr>\n",
       "  </tbody>\n",
       "</table>\n",
       "</div>"
      ],
      "text/plain": [
       "    Fruit  Quantity_kg  Price_per_kg_in_USD Farmer_Name  Customer_Name\n",
       "0   Apple         97.0                 1.15  John Smith     John Hayes\n",
       "1  Orange          NaN                 2.83  John Smith   Mary Casteel\n",
       "2  Banana          NaN                 2.16  John Smith    April Lewis\n",
       "3   Grape         81.0                 1.56  John Smith   David Burges\n",
       "4    Pear        140.0                 1.09  John Smith  George Redden"
      ]
     },
     "execution_count": 68,
     "metadata": {},
     "output_type": "execute_result"
    }
   ],
   "source": [
    "df.head()"
   ]
  },
  {
   "cell_type": "code",
   "execution_count": 69,
   "id": "31021d23",
   "metadata": {},
   "outputs": [
    {
     "data": {
      "text/plain": [
       "Fruit                     0\n",
       "Quantity_kg            2050\n",
       "Price_per_kg_in_USD     994\n",
       "Farmer_Name               0\n",
       "Customer_Name             0\n",
       "dtype: int64"
      ]
     },
     "execution_count": 69,
     "metadata": {},
     "output_type": "execute_result"
    }
   ],
   "source": [
    "df.isnull().sum()"
   ]
  },
  {
   "cell_type": "code",
   "execution_count": 71,
   "id": "609a7e21",
   "metadata": {},
   "outputs": [
    {
     "data": {
      "text/html": [
       "<div>\n",
       "<style scoped>\n",
       "    .dataframe tbody tr th:only-of-type {\n",
       "        vertical-align: middle;\n",
       "    }\n",
       "\n",
       "    .dataframe tbody tr th {\n",
       "        vertical-align: top;\n",
       "    }\n",
       "\n",
       "    .dataframe thead th {\n",
       "        text-align: right;\n",
       "    }\n",
       "</style>\n",
       "<table border=\"1\" class=\"dataframe\">\n",
       "  <thead>\n",
       "    <tr style=\"text-align: right;\">\n",
       "      <th></th>\n",
       "      <th>Fruit</th>\n",
       "      <th>Quantity_kg</th>\n",
       "      <th>Price_per_kg_in_USD</th>\n",
       "      <th>Farmer_Name</th>\n",
       "      <th>Customer_Name</th>\n",
       "    </tr>\n",
       "  </thead>\n",
       "  <tbody>\n",
       "    <tr>\n",
       "      <th>1</th>\n",
       "      <td>Orange</td>\n",
       "      <td>NaN</td>\n",
       "      <td>2.83</td>\n",
       "      <td>John Smith</td>\n",
       "      <td>Mary Casteel</td>\n",
       "    </tr>\n",
       "    <tr>\n",
       "      <th>2</th>\n",
       "      <td>Banana</td>\n",
       "      <td>NaN</td>\n",
       "      <td>2.16</td>\n",
       "      <td>John Smith</td>\n",
       "      <td>April Lewis</td>\n",
       "    </tr>\n",
       "    <tr>\n",
       "      <th>6</th>\n",
       "      <td>Orange</td>\n",
       "      <td>NaN</td>\n",
       "      <td>1.72</td>\n",
       "      <td>John Smith</td>\n",
       "      <td>Audrey Dolan</td>\n",
       "    </tr>\n",
       "    <tr>\n",
       "      <th>11</th>\n",
       "      <td>Orange</td>\n",
       "      <td>NaN</td>\n",
       "      <td>2.62</td>\n",
       "      <td>John Smith</td>\n",
       "      <td>Joseph Najera</td>\n",
       "    </tr>\n",
       "    <tr>\n",
       "      <th>19</th>\n",
       "      <td>Pear</td>\n",
       "      <td>NaN</td>\n",
       "      <td>1.58</td>\n",
       "      <td>John Smith</td>\n",
       "      <td>Rich Lupu</td>\n",
       "    </tr>\n",
       "    <tr>\n",
       "      <th>...</th>\n",
       "      <td>...</td>\n",
       "      <td>...</td>\n",
       "      <td>...</td>\n",
       "      <td>...</td>\n",
       "      <td>...</td>\n",
       "    </tr>\n",
       "    <tr>\n",
       "      <th>9985</th>\n",
       "      <td>Apple</td>\n",
       "      <td>NaN</td>\n",
       "      <td>1.57</td>\n",
       "      <td>John Smith</td>\n",
       "      <td>Tom Edes</td>\n",
       "    </tr>\n",
       "    <tr>\n",
       "      <th>9990</th>\n",
       "      <td>Apple</td>\n",
       "      <td>NaN</td>\n",
       "      <td>1.87</td>\n",
       "      <td>John Smith</td>\n",
       "      <td>James Jenkins</td>\n",
       "    </tr>\n",
       "    <tr>\n",
       "      <th>9993</th>\n",
       "      <td>Grape</td>\n",
       "      <td>NaN</td>\n",
       "      <td>1.85</td>\n",
       "      <td>John Smith</td>\n",
       "      <td>Veronica Valentine</td>\n",
       "    </tr>\n",
       "    <tr>\n",
       "      <th>9997</th>\n",
       "      <td>Banana</td>\n",
       "      <td>NaN</td>\n",
       "      <td>1.06</td>\n",
       "      <td>John Smith</td>\n",
       "      <td>Ellen Mcclelland</td>\n",
       "    </tr>\n",
       "    <tr>\n",
       "      <th>9999</th>\n",
       "      <td>Pear</td>\n",
       "      <td>NaN</td>\n",
       "      <td>1.76</td>\n",
       "      <td>John Smith</td>\n",
       "      <td>Bradley Rogers</td>\n",
       "    </tr>\n",
       "  </tbody>\n",
       "</table>\n",
       "<p>2050 rows × 5 columns</p>\n",
       "</div>"
      ],
      "text/plain": [
       "       Fruit  Quantity_kg  Price_per_kg_in_USD Farmer_Name       Customer_Name\n",
       "1     Orange          NaN                 2.83  John Smith        Mary Casteel\n",
       "2     Banana          NaN                 2.16  John Smith         April Lewis\n",
       "6     Orange          NaN                 1.72  John Smith        Audrey Dolan\n",
       "11    Orange          NaN                 2.62  John Smith       Joseph Najera\n",
       "19      Pear          NaN                 1.58  John Smith           Rich Lupu\n",
       "...      ...          ...                  ...         ...                 ...\n",
       "9985   Apple          NaN                 1.57  John Smith            Tom Edes\n",
       "9990   Apple          NaN                 1.87  John Smith       James Jenkins\n",
       "9993   Grape          NaN                 1.85  John Smith  Veronica Valentine\n",
       "9997  Banana          NaN                 1.06  John Smith    Ellen Mcclelland\n",
       "9999    Pear          NaN                 1.76  John Smith      Bradley Rogers\n",
       "\n",
       "[2050 rows x 5 columns]"
      ]
     },
     "execution_count": 71,
     "metadata": {},
     "output_type": "execute_result"
    }
   ],
   "source": [
    "df[df['Quantity_kg'].isnull()]"
   ]
  },
  {
   "cell_type": "code",
   "execution_count": 72,
   "id": "29bc5e9b",
   "metadata": {},
   "outputs": [
    {
     "data": {
      "text/html": [
       "<div>\n",
       "<style scoped>\n",
       "    .dataframe tbody tr th:only-of-type {\n",
       "        vertical-align: middle;\n",
       "    }\n",
       "\n",
       "    .dataframe tbody tr th {\n",
       "        vertical-align: top;\n",
       "    }\n",
       "\n",
       "    .dataframe thead th {\n",
       "        text-align: right;\n",
       "    }\n",
       "</style>\n",
       "<table border=\"1\" class=\"dataframe\">\n",
       "  <thead>\n",
       "    <tr style=\"text-align: right;\">\n",
       "      <th></th>\n",
       "      <th>Fruit</th>\n",
       "      <th>Quantity_kg</th>\n",
       "      <th>Price_per_kg_in_USD</th>\n",
       "      <th>Farmer_Name</th>\n",
       "      <th>Customer_Name</th>\n",
       "    </tr>\n",
       "  </thead>\n",
       "  <tbody>\n",
       "    <tr>\n",
       "      <th>23</th>\n",
       "      <td>Grape</td>\n",
       "      <td>138.0</td>\n",
       "      <td>NaN</td>\n",
       "      <td>John Smith</td>\n",
       "      <td>Terrence Dalley</td>\n",
       "    </tr>\n",
       "    <tr>\n",
       "      <th>28</th>\n",
       "      <td>Grape</td>\n",
       "      <td>67.0</td>\n",
       "      <td>NaN</td>\n",
       "      <td>John Smith</td>\n",
       "      <td>Scott Valdivia</td>\n",
       "    </tr>\n",
       "    <tr>\n",
       "      <th>30</th>\n",
       "      <td>Apple</td>\n",
       "      <td>NaN</td>\n",
       "      <td>NaN</td>\n",
       "      <td>John Smith</td>\n",
       "      <td>Kerry Vizza</td>\n",
       "    </tr>\n",
       "    <tr>\n",
       "      <th>32</th>\n",
       "      <td>Banana</td>\n",
       "      <td>143.0</td>\n",
       "      <td>NaN</td>\n",
       "      <td>John Smith</td>\n",
       "      <td>Junior Hoyt</td>\n",
       "    </tr>\n",
       "    <tr>\n",
       "      <th>48</th>\n",
       "      <td>Grape</td>\n",
       "      <td>70.0</td>\n",
       "      <td>NaN</td>\n",
       "      <td>John Smith</td>\n",
       "      <td>Shondra Powell</td>\n",
       "    </tr>\n",
       "    <tr>\n",
       "      <th>...</th>\n",
       "      <td>...</td>\n",
       "      <td>...</td>\n",
       "      <td>...</td>\n",
       "      <td>...</td>\n",
       "      <td>...</td>\n",
       "    </tr>\n",
       "    <tr>\n",
       "      <th>9945</th>\n",
       "      <td>Apple</td>\n",
       "      <td>141.0</td>\n",
       "      <td>NaN</td>\n",
       "      <td>John Smith</td>\n",
       "      <td>Patricia Barnhill</td>\n",
       "    </tr>\n",
       "    <tr>\n",
       "      <th>9963</th>\n",
       "      <td>Grape</td>\n",
       "      <td>62.0</td>\n",
       "      <td>NaN</td>\n",
       "      <td>John Smith</td>\n",
       "      <td>Betty Scott</td>\n",
       "    </tr>\n",
       "    <tr>\n",
       "      <th>9967</th>\n",
       "      <td>Banana</td>\n",
       "      <td>146.0</td>\n",
       "      <td>NaN</td>\n",
       "      <td>John Smith</td>\n",
       "      <td>Ruth Arvizu</td>\n",
       "    </tr>\n",
       "    <tr>\n",
       "      <th>9972</th>\n",
       "      <td>Banana</td>\n",
       "      <td>59.0</td>\n",
       "      <td>NaN</td>\n",
       "      <td>John Smith</td>\n",
       "      <td>Marilyn Washington</td>\n",
       "    </tr>\n",
       "    <tr>\n",
       "      <th>9982</th>\n",
       "      <td>Banana</td>\n",
       "      <td>NaN</td>\n",
       "      <td>NaN</td>\n",
       "      <td>John Smith</td>\n",
       "      <td>Jamie Gray</td>\n",
       "    </tr>\n",
       "  </tbody>\n",
       "</table>\n",
       "<p>994 rows × 5 columns</p>\n",
       "</div>"
      ],
      "text/plain": [
       "       Fruit  Quantity_kg  Price_per_kg_in_USD Farmer_Name       Customer_Name\n",
       "23     Grape        138.0                  NaN  John Smith     Terrence Dalley\n",
       "28     Grape         67.0                  NaN  John Smith      Scott Valdivia\n",
       "30     Apple          NaN                  NaN  John Smith         Kerry Vizza\n",
       "32    Banana        143.0                  NaN  John Smith         Junior Hoyt\n",
       "48     Grape         70.0                  NaN  John Smith      Shondra Powell\n",
       "...      ...          ...                  ...         ...                 ...\n",
       "9945   Apple        141.0                  NaN  John Smith   Patricia Barnhill\n",
       "9963   Grape         62.0                  NaN  John Smith         Betty Scott\n",
       "9967  Banana        146.0                  NaN  John Smith         Ruth Arvizu\n",
       "9972  Banana         59.0                  NaN  John Smith  Marilyn Washington\n",
       "9982  Banana          NaN                  NaN  John Smith          Jamie Gray\n",
       "\n",
       "[994 rows x 5 columns]"
      ]
     },
     "execution_count": 72,
     "metadata": {},
     "output_type": "execute_result"
    }
   ],
   "source": [
    "df[df['Price_per_kg_in_USD'].isnull()]"
   ]
  },
  {
   "cell_type": "code",
   "execution_count": 73,
   "id": "08ba2b75",
   "metadata": {},
   "outputs": [
    {
     "data": {
      "text/html": [
       "<div>\n",
       "<style scoped>\n",
       "    .dataframe tbody tr th:only-of-type {\n",
       "        vertical-align: middle;\n",
       "    }\n",
       "\n",
       "    .dataframe tbody tr th {\n",
       "        vertical-align: top;\n",
       "    }\n",
       "\n",
       "    .dataframe thead th {\n",
       "        text-align: right;\n",
       "    }\n",
       "</style>\n",
       "<table border=\"1\" class=\"dataframe\">\n",
       "  <thead>\n",
       "    <tr style=\"text-align: right;\">\n",
       "      <th></th>\n",
       "      <th>Quantity_kg</th>\n",
       "      <th>Price_per_kg_in_USD</th>\n",
       "      <th>Customer_Name</th>\n",
       "    </tr>\n",
       "  </thead>\n",
       "  <tbody>\n",
       "    <tr>\n",
       "      <th>0</th>\n",
       "      <td>97.0</td>\n",
       "      <td>1.15</td>\n",
       "      <td>John Hayes</td>\n",
       "    </tr>\n",
       "    <tr>\n",
       "      <th>1</th>\n",
       "      <td>NaN</td>\n",
       "      <td>2.83</td>\n",
       "      <td>Mary Casteel</td>\n",
       "    </tr>\n",
       "    <tr>\n",
       "      <th>2</th>\n",
       "      <td>NaN</td>\n",
       "      <td>2.16</td>\n",
       "      <td>April Lewis</td>\n",
       "    </tr>\n",
       "    <tr>\n",
       "      <th>3</th>\n",
       "      <td>81.0</td>\n",
       "      <td>1.56</td>\n",
       "      <td>David Burges</td>\n",
       "    </tr>\n",
       "    <tr>\n",
       "      <th>4</th>\n",
       "      <td>140.0</td>\n",
       "      <td>1.09</td>\n",
       "      <td>George Redden</td>\n",
       "    </tr>\n",
       "  </tbody>\n",
       "</table>\n",
       "</div>"
      ],
      "text/plain": [
       "   Quantity_kg  Price_per_kg_in_USD  Customer_Name\n",
       "0         97.0                 1.15     John Hayes\n",
       "1          NaN                 2.83   Mary Casteel\n",
       "2          NaN                 2.16    April Lewis\n",
       "3         81.0                 1.56   David Burges\n",
       "4        140.0                 1.09  George Redden"
      ]
     },
     "execution_count": 73,
     "metadata": {},
     "output_type": "execute_result"
    }
   ],
   "source": [
    "df=pd.read_csv('Fruit_Production.csv',usecols=['Quantity_kg','Price_per_kg_in_USD','Customer_Name'])\n",
    "df.head()"
   ]
  },
  {
   "cell_type": "code",
   "execution_count": 74,
   "id": "3a39e114",
   "metadata": {},
   "outputs": [
    {
     "data": {
      "text/plain": [
       "Quantity_kg            0.2050\n",
       "Price_per_kg_in_USD    0.0994\n",
       "Customer_Name          0.0000\n",
       "dtype: float64"
      ]
     },
     "execution_count": 74,
     "metadata": {},
     "output_type": "execute_result"
    }
   ],
   "source": [
    "df.isnull().mean()"
   ]
  },
  {
   "cell_type": "code",
   "execution_count": 75,
   "id": "27048b80",
   "metadata": {},
   "outputs": [],
   "source": [
    "def impute_nan(df,variable,median):\n",
    "    df[variable+\"_median\"]=df[variable].fillna(median)"
   ]
  },
  {
   "cell_type": "code",
   "execution_count": 76,
   "id": "81b05981",
   "metadata": {},
   "outputs": [
    {
     "data": {
      "text/plain": [
       "99.0"
      ]
     },
     "execution_count": 76,
     "metadata": {},
     "output_type": "execute_result"
    }
   ],
   "source": [
    "median=df.Quantity_kg.median()\n",
    "median"
   ]
  },
  {
   "cell_type": "code",
   "execution_count": 77,
   "id": "d272b8ee",
   "metadata": {},
   "outputs": [
    {
     "data": {
      "text/html": [
       "<div>\n",
       "<style scoped>\n",
       "    .dataframe tbody tr th:only-of-type {\n",
       "        vertical-align: middle;\n",
       "    }\n",
       "\n",
       "    .dataframe tbody tr th {\n",
       "        vertical-align: top;\n",
       "    }\n",
       "\n",
       "    .dataframe thead th {\n",
       "        text-align: right;\n",
       "    }\n",
       "</style>\n",
       "<table border=\"1\" class=\"dataframe\">\n",
       "  <thead>\n",
       "    <tr style=\"text-align: right;\">\n",
       "      <th></th>\n",
       "      <th>Quantity_kg</th>\n",
       "      <th>Price_per_kg_in_USD</th>\n",
       "      <th>Customer_Name</th>\n",
       "      <th>Quantity_kg_median</th>\n",
       "    </tr>\n",
       "  </thead>\n",
       "  <tbody>\n",
       "    <tr>\n",
       "      <th>0</th>\n",
       "      <td>97.0</td>\n",
       "      <td>1.15</td>\n",
       "      <td>John Hayes</td>\n",
       "      <td>97.0</td>\n",
       "    </tr>\n",
       "    <tr>\n",
       "      <th>1</th>\n",
       "      <td>NaN</td>\n",
       "      <td>2.83</td>\n",
       "      <td>Mary Casteel</td>\n",
       "      <td>99.0</td>\n",
       "    </tr>\n",
       "    <tr>\n",
       "      <th>2</th>\n",
       "      <td>NaN</td>\n",
       "      <td>2.16</td>\n",
       "      <td>April Lewis</td>\n",
       "      <td>99.0</td>\n",
       "    </tr>\n",
       "    <tr>\n",
       "      <th>3</th>\n",
       "      <td>81.0</td>\n",
       "      <td>1.56</td>\n",
       "      <td>David Burges</td>\n",
       "      <td>81.0</td>\n",
       "    </tr>\n",
       "    <tr>\n",
       "      <th>4</th>\n",
       "      <td>140.0</td>\n",
       "      <td>1.09</td>\n",
       "      <td>George Redden</td>\n",
       "      <td>140.0</td>\n",
       "    </tr>\n",
       "  </tbody>\n",
       "</table>\n",
       "</div>"
      ],
      "text/plain": [
       "   Quantity_kg  Price_per_kg_in_USD  Customer_Name  Quantity_kg_median\n",
       "0         97.0                 1.15     John Hayes                97.0\n",
       "1          NaN                 2.83   Mary Casteel                99.0\n",
       "2          NaN                 2.16    April Lewis                99.0\n",
       "3         81.0                 1.56   David Burges                81.0\n",
       "4        140.0                 1.09  George Redden               140.0"
      ]
     },
     "execution_count": 77,
     "metadata": {},
     "output_type": "execute_result"
    }
   ],
   "source": [
    "impute_nan(df,'Quantity_kg',median)\n",
    "df.head()"
   ]
  },
  {
   "cell_type": "code",
   "execution_count": 78,
   "id": "dfa9d07c",
   "metadata": {},
   "outputs": [
    {
     "name": "stdout",
     "output_type": "stream",
     "text": [
      "28.700650677925374\n",
      "25.590639396515314\n"
     ]
    }
   ],
   "source": [
    "print(df['Quantity_kg'].std())\n",
    "print(df['Quantity_kg_median'].std())"
   ]
  },
  {
   "cell_type": "code",
   "execution_count": 79,
   "id": "c8ff366d",
   "metadata": {},
   "outputs": [],
   "source": [
    "import matplotlib.pyplot as plt\n",
    "%matplotlib inline"
   ]
  },
  {
   "cell_type": "code",
   "execution_count": 80,
   "id": "a427699b",
   "metadata": {},
   "outputs": [
    {
     "data": {
      "text/plain": [
       "<matplotlib.legend.Legend at 0x24041e7e100>"
      ]
     },
     "execution_count": 80,
     "metadata": {},
     "output_type": "execute_result"
    },
    {
     "data": {
      "image/png": "[encoded data removed]",
      "text/plain": [
       "<Figure size 640x480 with 1 Axes>"
      ]
     },
     "metadata": {},
     "output_type": "display_data"
    }
   ],
   "source": [
    "fig = plt.figure()\n",
    "ax = fig.add_subplot(111)\n",
    "df['Quantity_kg'].plot(kind='kde', ax=ax)\n",
    "df.Quantity_kg_median.plot(kind='kde', ax=ax, color='red')\n",
    "lines, labels = ax.get_legend_handles_labels()\n",
    "ax.legend(lines, labels, loc='best')"
   ]
  },
  {
   "cell_type": "code",
   "execution_count": 81,
   "id": "860885fc",
   "metadata": {},
   "outputs": [
    {
     "data": {
      "text/plain": [
       "1.99"
      ]
     },
     "execution_count": 81,
     "metadata": {},
     "output_type": "execute_result"
    }
   ],
   "source": [
    "median=df.Price_per_kg_in_USD.median()\n",
    "median"
   ]
  },
  {
   "cell_type": "code",
   "execution_count": 82,
   "id": "f41e7550",
   "metadata": {},
   "outputs": [
    {
     "data": {
      "text/html": [
       "<div>\n",
       "<style scoped>\n",
       "    .dataframe tbody tr th:only-of-type {\n",
       "        vertical-align: middle;\n",
       "    }\n",
       "\n",
       "    .dataframe tbody tr th {\n",
       "        vertical-align: top;\n",
       "    }\n",
       "\n",
       "    .dataframe thead th {\n",
       "        text-align: right;\n",
       "    }\n",
       "</style>\n",
       "<table border=\"1\" class=\"dataframe\">\n",
       "  <thead>\n",
       "    <tr style=\"text-align: right;\">\n",
       "      <th></th>\n",
       "      <th>Quantity_kg</th>\n",
       "      <th>Price_per_kg_in_USD</th>\n",
       "      <th>Customer_Name</th>\n",
       "      <th>Quantity_kg_median</th>\n",
       "      <th>Price_per_kg_in_USD_median</th>\n",
       "    </tr>\n",
       "  </thead>\n",
       "  <tbody>\n",
       "    <tr>\n",
       "      <th>0</th>\n",
       "      <td>97.0</td>\n",
       "      <td>1.15</td>\n",
       "      <td>John Hayes</td>\n",
       "      <td>97.0</td>\n",
       "      <td>1.15</td>\n",
       "    </tr>\n",
       "    <tr>\n",
       "      <th>1</th>\n",
       "      <td>NaN</td>\n",
       "      <td>2.83</td>\n",
       "      <td>Mary Casteel</td>\n",
       "      <td>99.0</td>\n",
       "      <td>2.83</td>\n",
       "    </tr>\n",
       "    <tr>\n",
       "      <th>2</th>\n",
       "      <td>NaN</td>\n",
       "      <td>2.16</td>\n",
       "      <td>April Lewis</td>\n",
       "      <td>99.0</td>\n",
       "      <td>2.16</td>\n",
       "    </tr>\n",
       "    <tr>\n",
       "      <th>3</th>\n",
       "      <td>81.0</td>\n",
       "      <td>1.56</td>\n",
       "      <td>David Burges</td>\n",
       "      <td>81.0</td>\n",
       "      <td>1.56</td>\n",
       "    </tr>\n",
       "    <tr>\n",
       "      <th>4</th>\n",
       "      <td>140.0</td>\n",
       "      <td>1.09</td>\n",
       "      <td>George Redden</td>\n",
       "      <td>140.0</td>\n",
       "      <td>1.09</td>\n",
       "    </tr>\n",
       "  </tbody>\n",
       "</table>\n",
       "</div>"
      ],
      "text/plain": [
       "   Quantity_kg  Price_per_kg_in_USD  Customer_Name  Quantity_kg_median  \\\n",
       "0         97.0                 1.15     John Hayes                97.0   \n",
       "1          NaN                 2.83   Mary Casteel                99.0   \n",
       "2          NaN                 2.16    April Lewis                99.0   \n",
       "3         81.0                 1.56   David Burges                81.0   \n",
       "4        140.0                 1.09  George Redden               140.0   \n",
       "\n",
       "   Price_per_kg_in_USD_median  \n",
       "0                        1.15  \n",
       "1                        2.83  \n",
       "2                        2.16  \n",
       "3                        1.56  \n",
       "4                        1.09  "
      ]
     },
     "execution_count": 82,
     "metadata": {},
     "output_type": "execute_result"
    }
   ],
   "source": [
    "impute_nan(df,'Price_per_kg_in_USD',median)\n",
    "df.head()"
   ]
  },
  {
   "cell_type": "code",
   "execution_count": 83,
   "id": "db3b0f6d",
   "metadata": {},
   "outputs": [
    {
     "name": "stdout",
     "output_type": "stream",
     "text": [
      "0.5774900904286462\n",
      "0.5480414347222494\n"
     ]
    }
   ],
   "source": [
    "print(df['Price_per_kg_in_USD'].std())\n",
    "print(df['Price_per_kg_in_USD_median'].std())"
   ]
  },
  {
   "cell_type": "code",
   "execution_count": 84,
   "id": "674cd730",
   "metadata": {},
   "outputs": [],
   "source": [
    "import matplotlib.pyplot as plt\n",
    "%matplotlib inline"
   ]
  },
  {
   "cell_type": "code",
   "execution_count": 85,
   "id": "fc9128a6",
   "metadata": {},
   "outputs": [
    {
     "data": {
      "text/plain": [
       "<matplotlib.legend.Legend at 0x24043ea4f10>"
      ]
     },
     "execution_count": 85,
     "metadata": {},
     "output_type": "execute_result"
    },
    {
     "data": {
      "image/png": "[encoded data removed]",
      "text/plain": [
       "<Figure size 640x480 with 1 Axes>"
      ]
     },
     "metadata": {},
     "output_type": "display_data"
    }
   ],
   "source": [
    "fig = plt.figure()\n",
    "ax = fig.add_subplot(111)\n",
    "df['Price_per_kg_in_USD'].plot(kind='kde', ax=ax)\n",
    "df.Price_per_kg_in_USD_median.plot(kind='kde', ax=ax, color='red')\n",
    "lines, labels = ax.get_legend_handles_labels()\n",
    "ax.legend(lines, labels, loc='best')"
   ]
  },
  {
   "cell_type": "code",
   "execution_count": null,
   "id": "013b56f1",
   "metadata": {},
   "outputs": [],
   "source": []
  }
 ],
 "metadata": {
  "kernelspec": {
   "display_name": "Python 3 (ipykernel)",
   "language": "python",
   "name": "python3"
  },
  "language_info": {
   "codemirror_mode": {
    "name": "ipython",
    "version": 3
   },
   "file_extension": ".py",
   "mimetype": "text/x-python",
   "name": "python",
   "nbconvert_exporter": "python",
   "pygments_lexer": "ipython3",
   "version": "3.9.13"
  }
 },
 "nbformat": 4,
 "nbformat_minor": 5
}
